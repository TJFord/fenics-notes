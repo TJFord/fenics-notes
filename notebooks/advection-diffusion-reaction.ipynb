{
 "cells": [
  {
   "cell_type": "markdown",
   "metadata": {},
   "source": [
    "# Advection-diffusion-reaction equations #\n",
    "\n",
    "The problems we have encountered so far---with the notable exception\n",
    "of the Navier-Stokes equations---all share a common feature: they all\n",
    "involve models expressed by a *single* scalar or vector PDE. In many\n",
    "situations the model is instead expressed as a system of PDEs,\n",
    "describing different quantities possibly governed by (very) different\n",
    "physics. As we saw for the Navier-Stokes equations, one way to solve\n",
    "a system of PDEs in FEniCS is to use a splitting method where we solve\n",
    "one equation at a time and feed the solution from one equation into\n",
    "the next. However, one of the strengths with FEniCS is the ease by\n",
    "which one can instead define variational problems that couple several\n",
    "PDEs into one compound system. In this section, we will look at how to use\n",
    "FEniCS to write solvers for such systems of coupled PDEs.\n",
    "The goal is to demonstrate how easy it is to implement fully implicit,\n",
    "also known as monolithic, solvers in FEniCS."
   ]
  },
  {
   "cell_type": "markdown",
   "metadata": {},
   "source": [
    "## PDE problem ##\n",
    "\n",
    "Our model problem is the following system of\n",
    "advection-diffusion-reaction equations:\n",
    "\\begin{align}\n",
    "  \\label{ftut1-reactionsystem-system-1}\n",
    "  \\frac{\\partial u_1}{\\partial t} +\n",
    "  \\boldsymbol{w} \\cdot \\boldsymbol{\\nabla} u_1 - \\boldsymbol{\\nabla}\\cdot(\\epsilon\\boldsymbol{\\nabla} u_1)\n",
    "    &= f_1 -K u_1 u_2, \\\\\n",
    "  \\label{ftut1-reactionsystem-system-2}\n",
    "  \\frac{\\partial u_2}{\\partial t} +\n",
    "  \\boldsymbol{w} \\cdot \\boldsymbol{\\nabla} u_2 - \\boldsymbol{\\nabla}\\cdot(\\epsilon\\boldsymbol{\\nabla} u_2)\n",
    "    &= f_2 -K u_1 u_2, \\\\\n",
    "  \\label{ftut1-reactionsystem-system-3}\n",
    "  \\frac{\\partial u_3}{\\partial t} +\n",
    "  \\boldsymbol{w} \\cdot \\boldsymbol{\\nabla} u_3 - \\boldsymbol{\\nabla}\\cdot(\\epsilon\\boldsymbol{\\nabla} u_3)\n",
    "    &= f_3 + K u_1 u_2 - K u_3.\n",
    "\\end{align}"
   ]
  },
  {
   "cell_type": "markdown",
   "metadata": {},
   "source": [
    "This system models the chemical reaction between two species $A$ and\n",
    "$B$ in some domain $\\Omega$:\n",
    "\n",
    "\\[\n",
    "  A + B \\rightarrow C.\n",
    "\\]\n",
    "\n",
    "The variables $u_1$, $u_2$, and $u_3$ denote the\n",
    "concentrations of the three species:\n",
    "\\[\n",
    "  u_1 = [A], \\quad u_2 = [B], \\quad u_3 = [C].\n",
    "\\]\n",
    "The $f_i$ are the source terms of the three species."
   ]
  },
  {
   "cell_type": "markdown",
   "metadata": {},
   "source": [
    "The chemical reactions are accounted for in the\n",
    "right-hand sides of the PDE system (\\ref{ftut1-reactionsystem-system-1})-(\\ref{ftut1-reactionsystem-system-3}). We assume that the reaction is *first-order*, meaning that the\n",
    "reaction rate is proportional to the concentrations $[A]$ and $[B]$ of\n",
    "the two species $A$ and $B$:\n",
    "\n",
    "\\[\n",
    "  \\frac{\\mathrm{d}}{\\mathrm{d}t} [C] = K [A] [B].\n",
    "\\]\n",
    "\n",
    "We also assume that the formed species $C$ spontaneously decays with a\n",
    "rate proportional to the concentration $[C]$. "
   ]
  },
  {
   "cell_type": "markdown",
   "metadata": {},
   "source": [
    "The chemical reactions take part at each point in the domain\n",
    "$\\Omega$. In addition, we assume that the species $A$, $B$, and $C$\n",
    "diffuse throughout the domain with diffusivity $\\epsilon$ (the terms\n",
    "$-\\boldsymbol{\\nabla}\\cdot(\\epsilon\\boldsymbol{\\nabla} u_i)$) and are advected with velocity\n",
    "$\\boldsymbol{w}$ (the terms $\\boldsymbol{w}\\cdot\\boldsymbol{\\nabla} u_i$)."
   ]
  },
  {
   "cell_type": "markdown",
   "metadata": {},
   "source": [
    "To make things visually and physically interesting, we shall let the\n",
    "chemical reaction take place in the velocity field computed from the\n",
    "solution of the incompressible Navier-Stokes equations around a\n",
    "cylinder. In summary, we will thus be\n",
    "solving the following coupled system of nonlinear PDEs:\n",
    "\n",
    "\\begin{align}\n",
    "  \\label{ftut1-reactionsystem-full}\n",
    "  \\varrho\\left(\\frac{\\partial \\boldsymbol{w}}{\\partial t} +\n",
    "      \\boldsymbol{w} \\cdot \\boldsymbol{\\nabla} \\boldsymbol{w}\\right) &= \\boldsymbol{\\nabla}\\cdot\\boldsymbol{\\sigma}(\\boldsymbol{w}, p) + \\boldsymbol{f}, \\\\\n",
    "  \\boldsymbol{\\nabla} \\cdot \\boldsymbol{w} &= 0, \\\\\n",
    "  \\frac{\\partial u_1}{\\partial t} +\n",
    "  \\boldsymbol{w} \\cdot \\boldsymbol{\\nabla} u_1 - \\boldsymbol{\\nabla}\\cdot(\\epsilon\\boldsymbol{\\nabla} u_1)\n",
    "    &= f_1 - K u_1 u_2, \\\\\n",
    "  \\frac{\\partial u_2}{\\partial t} +\n",
    "  \\boldsymbol{w} \\cdot \\boldsymbol{\\nabla} u_2 - \\boldsymbol{\\nabla}\\cdot(\\epsilon\\boldsymbol{\\nabla} u_2)\n",
    "    &= f_2 - K u_1 u_2, \\\\\n",
    "  \\frac{\\partial u_3}{\\partial t} +\n",
    "  \\boldsymbol{w} \\cdot \\boldsymbol{\\nabla} u_3 - \\boldsymbol{\\nabla}\\cdot(\\epsilon\\boldsymbol{\\nabla} u_3)\n",
    "    &= f_3 + K u_1 u_2 - K u_3.\n",
    "\\end{align}"
   ]
  },
  {
   "cell_type": "markdown",
   "metadata": {},
   "source": [
    "This system is one-way coupled from the Navier--Stokes subsystem\n",
    "to the advection-diffusion-reaction subsystem.\n",
    "\n",
    "We assume that $u_1 = u_2 = u_3 = 0$ at $t = 0$ and inject the species\n",
    "$A$ and $B$ into the system by specifying nonzero source terms $f_1$\n",
    "and $f_2$ close to the corners at the inflow, and take $f_3 = 0$. The\n",
    "result will be that $A$ and $B$ are convected by advection and\n",
    "diffusion throughout the channel, and when they mix the species $C$\n",
    "will be formed."
   ]
  },
  {
   "cell_type": "markdown",
   "metadata": {},
   "source": [
    "## Variational formulation ##\n",
    "\n",
    "We obtain the variational formulation of our system by multiplying\n",
    "each equation by a test function, integrating the second-order terms\n",
    "$-\\boldsymbol{\\nabla}\\cdot(\\epsilon\\boldsymbol{\\nabla} u_i)$ by parts, and summing up the\n",
    "equations. When working with FEniCS it is convenient to think of the\n",
    "PDE system as a vector of equations. The test functions are collected in\n",
    "a vector too, and the variational formulation is the inner product of\n",
    "the vector PDE and the vector test function."
   ]
  },
  {
   "cell_type": "markdown",
   "metadata": {},
   "source": [
    "We also need introduce some discretization in time. We will use the\n",
    "backward Euler method as before when we solved the heat equation and\n",
    "approximate the time derivatives by $(u_i^{n+1}-u_i^n) / \\delta t$. Let\n",
    "$v_1$, $v_2$, and $v_3$ be the test functions, or the components of\n",
    "the test vector function. The inner product results in\n",
    "\\begin{align}\n",
    "  \\label{ftut1-reactionsystem-varproblem}\n",
    "  & \\int_{\\Omega}\n",
    "  (\\delta t^{-1} (u_1^{n+1} - u_1^n) v_1 + \\boldsymbol{w} \\cdot \\boldsymbol{\\nabla} u^{n+1}_1 \\, v_1\n",
    "  + \\epsilon \\boldsymbol{\\nabla} u^{n+1}_1 \\cdot \\boldsymbol{\\nabla} v_1) \\rm{d}\\boldsymbol{x} \\\\\n",
    "  + & \\int_{\\Omega} (\\delta t^{-1} (u_2^{n+1} - u_2^n) v_2\n",
    "  + \\boldsymbol{w} \\cdot \\boldsymbol{\\nabla} u^{n+1}_2 \\, v_2\n",
    "  + \\epsilon \\boldsymbol{\\nabla} u^{n+1}_2 \\cdot \\boldsymbol{\\nabla} v_2) \\rm{d}\\boldsymbol{x} \\nonumber \\\\\n",
    "  + & \\int_{\\Omega} (\\delta t^{-1} (u_3^{n+1} - u_3^n) v_3\n",
    "  + \\boldsymbol{w} \\cdot \\boldsymbol{\\nabla} u^{n+1}_3 \\, v_3\n",
    "  + \\epsilon \\boldsymbol{\\nabla} u^{n+1}_3 \\cdot \\boldsymbol{\\nabla} v_3) \\rm{d}\\boldsymbol{x} \\nonumber \\\\\n",
    "  - & \\int_{\\Omega} (f_1 v_1 + f_2 v_2 + f_3 v_3) \\rm{d}\\boldsymbol{x} \\nonumber \\\\\n",
    "  - & \\int_{\\Omega} (-K u^{n+1}_1 u^{n+1}_2 v_1 - K u^{n+1}_1\n",
    "  u^{n+1}_2 v_2 + K u^{n+1}_1 u^{n+1}_2 v_3 - K u^{n+1}_3 v_3) \\rm{d}\\boldsymbol{x} = 0.\n",
    "  \\nonumber\n",
    "\\end{align}"
   ]
  },
  {
   "cell_type": "markdown",
   "metadata": {},
   "source": [
    "For this problem it is natural to assume homogeneous Neumann boundary\n",
    "conditions on the entire boundary for $u_1$, $u_2$, and $u_3$; that\n",
    "is, $\\partial u_i/\\partial n = 0$ for $i = 1, 2, 3$. This means that\n",
    "the boundary terms vanish when we integrate by parts."
   ]
  },
  {
   "cell_type": "markdown",
   "metadata": {},
   "source": [
    "## FEniCS implementation ##\n",
    "\n",
    "The first step is to read the mesh from file. If you have written out the mesh previously, you can read it in using the following statement:\n",
    "```\n",
    "mesh = Mesh('navier_stokes_cylinder/cylinder.xml.gz')\n",
    "```\n",
    "The mesh is stored in the native FEniCS XML format (with additional\n",
    "gzipping to decrease the file size).\n",
    "\n",
    "Here, we will generate the mesh from scratch. "
   ]
  },
  {
   "cell_type": "code",
   "execution_count": 1,
   "metadata": {},
   "outputs": [
    {
     "data": {
      "text/plain": [
       "[<matplotlib.lines.Line2D at 0x7f2f8b4843c8>,\n",
       " <matplotlib.lines.Line2D at 0x7f2fc23b42e8>]"
      ]
     },
     "execution_count": 1,
     "metadata": {},
     "output_type": "execute_result"
    },
    {
     "data": {
      "image/png": "[encoded data removed]",
      "text/plain": [
       "<matplotlib.figure.Figure at 0x7f2f8b343f98>"
      ]
     },
     "metadata": {},
     "output_type": "display_data"
    }
   ],
   "source": [
    "from fenics import *\n",
    "%matplotlib inline\n",
    "\n",
    "from mshr import *\n",
    "\n",
    "channel = Rectangle(Point(0, 0), Point(2.2, 0.41))\n",
    "cylinder = Circle(Point(0.2, 0.2), 0.05, 16)\n",
    "domain = channel - cylinder\n",
    "\n",
    "mesh = generate_mesh(domain, 64)\n",
    "plot(mesh)"
   ]
  },
  {
   "cell_type": "markdown",
   "metadata": {},
   "source": [
    "Next, we need to define the finite element function space. For this\n",
    "problem, we need to define several spaces. The first space we create\n",
    "is the space for the velocity field $w$ from the Navier--Stokes\n",
    "simulation. We call this space $W$ and define the space by"
   ]
  },
  {
   "cell_type": "code",
   "execution_count": 2,
   "metadata": {
    "collapsed": true,
    "jupyter": {
     "outputs_hidden": true
    }
   },
   "outputs": [],
   "source": [
    "# Define function space for velocity\n",
    "W = VectorFunctionSpace(mesh, 'P', 2)"
   ]
  },
  {
   "cell_type": "markdown",
   "metadata": {},
   "source": [
    "It is important that this space is exactly the same as the space we\n",
    "used for the velocity field in the Navier-Stokes solver. "
   ]
  },
  {
   "cell_type": "markdown",
   "metadata": {},
   "source": [
    "For the three concentrations $u_1$, $u_2$, and $u_3$, we want to\n",
    "create a *mixed space* using `MixedElement` with three scalar functions representing the full system $(u_1, u_2, u_3)$ as a single entity."
   ]
  },
  {
   "cell_type": "code",
   "execution_count": 3,
   "metadata": {
    "collapsed": true,
    "jupyter": {
     "outputs_hidden": true
    }
   },
   "outputs": [],
   "source": [
    "# Define function space for system of concentrations\n",
    "P1 = FiniteElement('P', triangle, 1)\n",
    "element = MixedElement([P1, P1, P1])\n",
    "V = FunctionSpace(mesh, element)"
   ]
  },
  {
   "cell_type": "markdown",
   "metadata": {},
   "source": [
    "**Note**: We can also define the mixed finite elements with:\n",
    "```\n",
    "element = VectorElement('P', triangle, 1, dim=3)\n",
    "V = FunctionSpace(mesh, element)\n",
    "```\n",
    "\n",
    "Note that for Navier-Stoke's equation, we used the product of elements to define the mixed Taylor-Hood element:\n",
    "```\n",
    "P2 = VectorElement('P', triangle, 2)\n",
    "P1 = FiniteElement('P', triangle, 1)\n",
    "TH = P2 * P1\n",
    "```\n",
    "However, this syntax does not work well with three or more elements because `element = P1 * P1 * P1` is interpreted as `element = (P1 * P1) * P1`, and the mixed element would be consisting of two subsystems."
   ]
  },
  {
   "cell_type": "markdown",
   "metadata": {},
   "source": [
    "Once the space has been created, we need to define our test functions\n",
    "and finite element functions. Test functions for a mixed function\n",
    "space can be created by replacing `TestFunction` by `TestFunctions`:"
   ]
  },
  {
   "cell_type": "code",
   "execution_count": 4,
   "metadata": {
    "collapsed": true,
    "jupyter": {
     "outputs_hidden": true
    }
   },
   "outputs": [],
   "source": [
    "# Define test functions\n",
    "v_1, v_2, v_3 = TestFunctions(V)"
   ]
  },
  {
   "cell_type": "markdown",
   "metadata": {},
   "source": [
    "Since the problem is nonlinear, we need to work with functions rather\n",
    "than trial functions for the unknowns. This can be done by using the\n",
    "corresponding `Functions` construction in FEniCS. However, as we will\n",
    "need to access the `Function` for the entire system itself, we first\n",
    "need to create that function and then access its components:"
   ]
  },
  {
   "cell_type": "code",
   "execution_count": 5,
   "metadata": {
    "collapsed": true,
    "jupyter": {
     "outputs_hidden": true
    }
   },
   "outputs": [],
   "source": [
    "# Define functions for velocity and concentrations\n",
    "w = Function(W)\n",
    "# w = Constant((1,0))\n",
    "u = Function(V)\n",
    "u_n = Function(V)\n",
    "\n",
    "# Split system functions to access components\n",
    "u_1, u_2, u_3 = split(u)\n",
    "u_n1, u_n2, u_n3 = split(u_n)"
   ]
  },
  {
   "cell_type": "markdown",
   "metadata": {},
   "source": [
    "These functions will be used to represent the unknowns $u_1$, $u_2$, and $u_3$\n",
    "at the new time level $n+1$. The corresponding values at the previous\n",
    "time level $n$ are denoted by `u_n1`, `u_n2`, and `u_n3` in our program."
   ]
  },
  {
   "cell_type": "code",
   "execution_count": 6,
   "metadata": {
    "collapsed": true,
    "jupyter": {
     "outputs_hidden": true
    }
   },
   "outputs": [],
   "source": [
    "# Define source terms\n",
    "f_1 = Expression('pow(x[0]-0.1,2)+pow(x[1]-0.1,2)<0.05*0.05 ? 0.1 : 0',\n",
    "                 degree=1)\n",
    "f_2 = Expression('pow(x[0]-0.1,2)+pow(x[1]-0.3,2)<0.05*0.05 ? 0.1 : 0',\n",
    "                 degree=1)\n",
    "f_3 = Constant(0)"
   ]
  },
  {
   "cell_type": "markdown",
   "metadata": {},
   "source": [
    "We now define some parameters and expressions used in variational forms."
   ]
  },
  {
   "cell_type": "code",
   "execution_count": 7,
   "metadata": {
    "collapsed": true,
    "jupyter": {
     "outputs_hidden": true
    }
   },
   "outputs": [],
   "source": [
    "T = 0.5            # final time\n",
    "num_steps = 500    # number of time steps\n",
    "dt = T / num_steps # time step size\n",
    "eps = 0.01         # diffusion coefficient\n",
    "K = 10.0           # reaction rate\n",
    "\n",
    "# Define expressions used in variational forms\n",
    "k = Constant(dt)\n",
    "K = Constant(K)\n",
    "eps = Constant(eps)"
   ]
  },
  {
   "cell_type": "markdown",
   "metadata": {},
   "source": [
    "Now all functions and test functions have been defined. We can\n",
    "express the nonlinear variational problem\n",
    "(\\ref{ftut1-reactionsystem-varproblem}):"
   ]
  },
  {
   "cell_type": "code",
   "execution_count": 8,
   "metadata": {
    "collapsed": true,
    "jupyter": {
     "outputs_hidden": true
    }
   },
   "outputs": [],
   "source": [
    "F = ((u_1 - u_n1) / k)*v_1*dx + dot(w, grad(u_1))*v_1*dx \\\n",
    "  + eps*dot(grad(u_1), grad(v_1))*dx + K*u_1*u_2*v_1*dx  \\\n",
    "  + ((u_2 - u_n2) / k)*v_2*dx + dot(w, grad(u_2))*v_2*dx \\\n",
    "  + eps*dot(grad(u_2), grad(v_2))*dx + K*u_1*u_2*v_2*dx  \\\n",
    "  + ((u_3 - u_n3) / k)*v_3*dx + dot(w, grad(u_3))*v_3*dx \\\n",
    "  + eps*dot(grad(u_3), grad(v_3))*dx - K*u_1*u_2*v_3*dx + K*u_3*v_3*dx \\\n",
    "  - f_1*v_1*dx - f_2*v_2*dx - f_3*v_3*dx"
   ]
  },
  {
   "cell_type": "markdown",
   "metadata": {},
   "source": [
    "One could write out the velocity field into a `TimeSeries` and then read it back in, such as \n",
    "```\n",
    "timeseries_w = TimeSeries('navier_stokes_cylinder/velocity_series')\n",
    "```\n",
    "However, file I/O is too expensive compared to computation. Hence, we solve the Navier-Stokes equation directly.\n",
    "\n",
    "To avoid name conflicts between the Navier-Stokes solver and the advection-diffusion-reaction solver, we encapsulate the Navier-Stokes solver into a class."
   ]
  },
  {
   "cell_type": "code",
   "execution_count": 9,
   "metadata": {
    "collapsed": true,
    "jupyter": {
     "outputs_hidden": true
    }
   },
   "outputs": [],
   "source": [
    "class NavierStokesSolver:\n",
    "    # Define function spaces\n",
    "    inflow   = 'near(x[0], 0)'\n",
    "    outflow  = 'near(x[0], 2.2)'\n",
    "    walls    = 'near(x[1], 0) || near(x[1], 0.41)'\n",
    "    cylinder = 'on_boundary && x[0]>0.1 && x[0]<0.3 && x[1]>0.1 && x[1]<0.3'\n",
    "\n",
    "    # Define inflow profile\n",
    "    inflow_profile = ('4.0*1.5*x[1]*(0.41 - x[1]) / pow(0.41, 2)', '0')\n",
    "\n",
    "    mu = 0.001         # dynamic viscosity\n",
    "    rho = 1            # density\n",
    "\n",
    "    f  = Constant((0, 0))\n",
    "    mu = Constant(mu)\n",
    "\n",
    "    def epsilon(u):\n",
    "        return sym(nabla_grad(u))\n",
    "\n",
    "    # Define stress tensor\n",
    "    def sigma(self, u, p):\n",
    "        return 2*self.mu*NavierStokesSolver.epsilon(u) - p*Identity(len(u))\n",
    "\n",
    "    # Define symmetric gradient\n",
    "    def __init__(self, mesh, dt):\n",
    "        self.V = VectorFunctionSpace(mesh, 'P', 2)\n",
    "        self.Q = FunctionSpace(mesh, 'P', 1)\n",
    "\n",
    "        # Define boundary conditions\n",
    "        bcu_inflow = DirichletBC(self.V, Expression(self.inflow_profile, degree=2), self.inflow)\n",
    "        bcu_walls = DirichletBC(self.V, Constant((0, 0)), self.walls)\n",
    "        bcu_cylinder = DirichletBC(self.V, Constant((0, 0)), self.cylinder)\n",
    "        bcp_outflow = DirichletBC(self.Q, Constant(0), self.outflow)\n",
    "        self.bcu = [bcu_inflow, bcu_walls, bcu_cylinder]\n",
    "        self.bcp = [bcp_outflow]\n",
    "\n",
    "        # Define trial and test functions\n",
    "        self.v = TestFunction(self.V)\n",
    "        self.q = TestFunction(self.Q)\n",
    "\n",
    "        self.u = TrialFunction(self.V)\n",
    "        self.p = TrialFunction(self.Q)\n",
    "\n",
    "        # Define functions for solutions at previous and current time steps\n",
    "        self.u_k = Function(self.V)\n",
    "        self.u_  = Function(self.V)\n",
    "\n",
    "        self.p_k = Function(self.Q)\n",
    "        self.p_  = Function(self.Q)\n",
    "\n",
    "        # Define expressions used in variational forms\n",
    "        self.DT = Constant(dt)\n",
    "\n",
    "        self.u_mid  = 0.5*(self.u_k + self.u)\n",
    "        self.n  = FacetNormal(mesh)\n",
    "\n",
    "        # Define variational problem for step 1\n",
    "        self.F1 = self.rho*dot((self.u - self.u_k) / self.DT, self.v)*dx \\\n",
    "           + self.rho*dot(dot(self.u_k, nabla_grad(self.u_k)), self.v)*dx \\\n",
    "           + inner(self.sigma(self.u_mid, self.p_k), NavierStokesSolver.epsilon(self.v))*dx \\\n",
    "           + dot(self.p_k*self.n, self.v)*ds - dot(self.mu*nabla_grad(self.u_mid)*self.n, self.v)*ds \\\n",
    "           - dot(self.f, self.v)*dx\n",
    "\n",
    "        self.a1 = lhs(self.F1)\n",
    "        self.L1 = rhs(self.F1)\n",
    "        self.A1 = assemble(self.a1)\n",
    "        [bc.apply(self.A1) for bc in self.bcu]\n",
    "\n",
    "        # Define variational problem for step 2\n",
    "        self.a2 = dot(nabla_grad(self.p), nabla_grad(self.q))*dx\n",
    "        self.L2 = dot(nabla_grad(self.p_k), nabla_grad(self.q))*dx - (1/self.DT)*div(self.u_)*self.q*dx\n",
    "        self.A2 = assemble(self.a2)\n",
    "        [bc.apply(self.A2) for bc in self.bcp]\n",
    "\n",
    "        # Define variational problem for step 3\n",
    "        self.a3 = dot(self.u, self.v)*dx\n",
    "        self.L3 = dot(self.u_, self.v)*dx - self.DT*dot(nabla_grad(self.p_ - self.p_k), self.v)*dx\n",
    "        self.A3 = assemble(self.a3)\n",
    "        \n",
    "    def advance(self):\n",
    "        # Update current time\n",
    "        # Step 1: Tentative velocity step\n",
    "        b1 = assemble(self.L1)\n",
    "        [bc.apply(b1) for bc in self.bcu]\n",
    "        solve(self.A1, self.u_.vector(), b1, 'bicgstab', 'ilu')\n",
    "\n",
    "        # Step 2: Pressure correction step\n",
    "        b2 = assemble(self.L2)\n",
    "        [bc.apply(b2) for bc in self.bcp]\n",
    "        solve(self.A2, self.p_.vector(), b2, 'bicgstab', 'ilu')\n",
    "\n",
    "        # Step 3: Velocity correction step\n",
    "        b3 = assemble(self.L3)\n",
    "        solve(self.A3, self.u_.vector(), b3, 'cg', 'sor')\n",
    "        \n",
    "        # Update previous solution\n",
    "        self.u_k.assign(self.u_)\n",
    "        self.p_k.assign(self.p_)"
   ]
  },
  {
   "cell_type": "code",
   "execution_count": 10,
   "metadata": {
    "collapsed": true,
    "jupyter": {
     "outputs_hidden": true
    }
   },
   "outputs": [],
   "source": [
    "# Create VTK files for visualization output\n",
    "vtkfile_u_1 = File('reaction_system/u_1.pvd')\n",
    "vtkfile_u_2 = File('reaction_system/u_2.pvd')\n",
    "vtkfile_u_3 = File('reaction_system/u_3.pvd')\n",
    "\n",
    "# Create progress bar\n",
    "progress = Progress('Time-stepping')\n",
    "set_log_level(PROGRESS)"
   ]
  },
  {
   "cell_type": "markdown",
   "metadata": {},
   "source": [
    "The time-stepping simply consists of solving this variational problem\n",
    "in each time step by a call to the `solve` function.\n",
    "In each time step, we first read the current value for the velocity\n",
    "field from the time series we have previously stored. We then solve\n",
    "the nonlinear system, and assign the computed values to the left-hand\n",
    "side values for the next time interval. When retrieving values from a\n",
    "`TimeSeries`, the values will by default be interpolated (linearly) to\n",
    "the given time `t` if the time does not exactly match a sample in the\n",
    "series."
   ]
  },
  {
   "cell_type": "code",
   "execution_count": 11,
   "metadata": {},
   "outputs": [
    {
     "name": "stdout",
     "output_type": "stream",
     "text": [
      "u max:  0.000102884795044\n",
      "u max:  0.000622918813026\n",
      "u max:  0.00113870053516\n",
      "u max:  0.00164590541457\n",
      "u max:  0.00212818577667\n",
      "u max:  0.00257295714994\n",
      "u max:  0.00297380436068\n",
      "u max:  0.00332800481701\n",
      "u max:  0.0036619628641\n",
      "u max:  0.00398779981288\n",
      "u max:  0.00427665295716\n",
      "u max:  0.00452881375789\n",
      "u max:  0.00474523501681\n",
      "u max:  0.00492735408589\n",
      "u max:  0.00507703708594\n",
      "u max:  0.00519655891911\n",
      "u max:  0.00534775055116\n",
      "u max:  0.00548224944723\n",
      "u max:  0.00559843226931\n",
      "u max:  0.00569764378726\n",
      "u max:  0.00578085980865\n",
      "u max:  0.00584882756265\n",
      "u max:  0.00590206962203\n",
      "u max:  0.0059409527439\n",
      "u max:  0.00596623186284\n",
      "u max:  0.00597962627691\n",
      "u max:  0.00598372775757\n",
      "u max:  0.00598138331324\n",
      "u max:  0.0059751073556\n",
      "u max:  0.00596679047832\n",
      "u max:  0.00595771662041\n",
      "u max:  0.00594874369799\n",
      "u max:  0.00594045956532\n",
      "u max:  0.00593325515397\n",
      "u max:  0.00592735924945\n",
      "u max:  0.00592287123065\n",
      "u max:  0.00591979369416\n",
      "u max:  0.0059180594189\n",
      "u max:  0.00591755248402\n",
      "u max:  0.00591812377219\n",
      "u max:  0.00591960462297\n",
      "u max:  0.00592182262882\n",
      "u max:  0.00592461524073\n",
      "u max:  0.00592783603494\n",
      "u max:  0.0059313555554\n",
      "u max:  0.00593506100857\n",
      "u max:  0.00593885592105\n",
      "u max:  0.00594265934764\n",
      "u max:  0.00594640500035\n",
      "u max:  0.0059500405091\n",
      "u max:  0.00595352655672\n",
      "u max:  0.00595683548114\n",
      "u max:  0.00595994952699\n",
      "u max:  0.00596285921274\n",
      "u max:  0.00596556173652\n",
      "u max:  0.00596805936626\n",
      "u max:  0.00597035810908\n",
      "u max:  0.00597246676366\n",
      "u max:  0.00597439614858\n",
      "u max:  0.00597615845571\n",
      "u max:  0.00597776670834\n",
      "u max:  0.00597923431638\n",
      "u max:  0.00598057472804\n",
      "u max:  0.00598180116252\n",
      "u max:  0.00598292638088\n",
      "u max:  0.00598396254329\n",
      "u max:  0.00598492110836\n",
      "u max:  0.00598581275664\n",
      "u max:  0.00598664739526\n",
      "u max:  0.00598743417151\n",
      "u max:  0.00598818148231\n",
      "u max:  0.00598889700579\n",
      "u max:  0.00598958775769\n",
      "u max:  0.00599026013218\n",
      "u max:  0.00599091995438\n",
      "u max:  0.0059915725329\n",
      "u max:  0.00599222270723\n",
      "u max:  0.00599287488682\n",
      "u max:  0.00599353310137\n",
      "u max:  0.00599420104643\n",
      "u max:  0.00599488210589\n",
      "u max:  0.00599557939974\n",
      "u max:  0.0059962957981\n",
      "u max:  0.00599703393962\n",
      "u max:  0.00599779625158\n",
      "u max:  0.00599858496138\n",
      "u max:  0.0059994021033\n",
      "u max:  0.00600024952458\n",
      "u max:  0.00600112889\n",
      "u max:  0.00600204168514\n",
      "u max:  0.00600298920756\n",
      "u max:  0.00600397257801\n",
      "u max:  0.00600499272572\n",
      "u max:  0.00600605039145\n",
      "u max:  0.00600714612159\n",
      "u max:  0.00600828025481\n",
      "u max:  0.00600945293116\n",
      "u max:  0.00601066407143\n",
      "u max:  0.00601191337938\n",
      "u max:  0.00601320032301\n"
     ]
    }
   ],
   "source": [
    "# Time-stepping\n",
    "t = 0\n",
    "out_interval = num_steps / 100;\n",
    "\n",
    "nss = NavierStokesSolver(mesh, dt)\n",
    "\n",
    "for k in range(num_steps):\n",
    "    # Update current time\n",
    "    t += dt\n",
    "\n",
    "    # Advance the Navier-Stokes solver in time\n",
    "    nss.advance()\n",
    "\n",
    "    # Copy velocities from Navier-Stokes solver to a-d-r solver\n",
    "    w.assign(nss.u_k)\n",
    "\n",
    "    # Solve variational problem for time step\n",
    "    solve(F == 0, u)\n",
    "\n",
    "    if k%out_interval ==0 or k==num_steps:\n",
    "        # Save solution to file (VTK)\n",
    "        _u_1, _u_2, _u_3 = u.split()\n",
    "        vtkfile_u_1 << (_u_1, t)\n",
    "        vtkfile_u_2 << (_u_2, t)\n",
    "        vtkfile_u_3 << (_u_3, t)\n",
    "\n",
    "        print('u max: ', u.vector().array().max())\n",
    "        \n",
    "    # Update previous solution\n",
    "    u_n.assign(u)\n",
    "\n",
    "    # Update progress bar\n",
    "    progress.update(t / T)"
   ]
  },
  {
   "cell_type": "markdown",
   "metadata": {},
   "source": [
    "Finally, we comment on three important techniques that are very useful\n",
    "when working with systems of PDEs: setting initial conditions, setting\n",
    "boundary conditions, and extracting components of the system for\n",
    "plotting or postprocessing."
   ]
  },
  {
   "cell_type": "markdown",
   "metadata": {},
   "source": [
    "## Setting initial conditions for mixed systems ##\n",
    "\n",
    "In our example, we did not need to worry about setting an initial\n",
    "condition, since we start with $u_1 = u_2 = u_3 = 0$. This happens\n",
    "automatically in the code when we set `u_n = Function(V)`. This\n",
    "creates a `Function` for the whole system and all degrees of freedom\n",
    "are set to zero.\n",
    "\n",
    "If we want to set initial conditions for the components of the system\n",
    "separately, the easiest solution is to define the initial conditions\n",
    "as a vector-valued `Expression` and then project (or interpolate) this\n",
    "to the `Function` representing the whole system. For example,\n",
    "\n",
    "```\n",
    "u_0 = Expression(('sin(x[0])', 'cos(x[0]*x[1])', 'exp(x[1])'), degree=1)\n",
    "u_n = project(u_0, V)\n",
    "```\n",
    "This defines $u_1$, $u_2$, and $u_2$ to be the projections of $\\sin\n",
    "x$, $\\cos (xy)$, and $\\exp(y)$, respectively."
   ]
  },
  {
   "cell_type": "markdown",
   "metadata": {},
   "source": [
    "## Setting boundary conditions for mixed systems ##\n",
    "\n",
    "In our example, we also did not need to worry about setting boundary\n",
    "conditions since we used a natural Neumann condition. If we want to set\n",
    "Dirichlet conditions for individual components of the system, this can\n",
    "be done as usual by the class `DirichletBC`, but we must specify for\n",
    "which subsystem we set the boundary condition. For example, to specify\n",
    "that $u_2$ should be equal to $xy$ on the boundary defined by\n",
    "`boundary`, we do\n",
    "\n",
    "```\n",
    "u_D = Expression('x[0]*x[1]', degree=1)\n",
    "bc = DirichletBC(V.sub(1), u_D, boundary)\n",
    "```\n",
    "The object `bc` or a list of such objects containing different\n",
    "boundary conditions, can then be passed to the `solve` function as usual.\n",
    "Note that numbering starts at $0$ in FEniCS so the subspace\n",
    "corresponding to $u_2$ is `V.sub(1)`."
   ]
  },
  {
   "cell_type": "markdown",
   "metadata": {},
   "source": [
    "## Accessing components of mixed systems ##\n",
    "\n",
    "If `u` is a `Function` defined on a mixed function space in FEniCS,\n",
    "there are several ways in which `u` can be *split* into components.\n",
    "Above we already saw an example of the first of these:\n",
    "\n",
    "```\n",
    "u_1, u_2, u_3 = split(u)\n",
    "```\n",
    "This extracts the components of `u` as *symbols* that can be used in a\n",
    "variational problem. The above statement is in fact equivalent to\n",
    "\n",
    "```\n",
    "u_1 = u[0]\n",
    "u_2 = u[1]\n",
    "u_3 = u[2]\n",
    "```\n",
    "Note that `u[0]` is not really a `Function` object, but merely a\n",
    "symbolic expression, just like `grad(u)` in FEniCS is a symbolic\n",
    "expression and not a `Function` representing the gradient.  This means\n",
    "that `u_1`, `u_2`, `u_3` can be used in a variational problem, but\n",
    "cannot be used for plotting or postprocessing.\n",
    "\n",
    "To access the components of `u` for plotting and saving the solution\n",
    "to file, we need to use a different variant of the `split` function:\n",
    "\n",
    "```\n",
    "u_1_, u_2_, u_3_ = u.split()\n",
    "```\n",
    "This returns three subfunctions as actual objects with access to the\n",
    "common underlying data stored in `u`, which makes plotting and saving\n",
    "to file possible. Alternatively, we can do\n",
    "\n",
    "```\n",
    "u_1_, u_2_, u_3_ = u.split(deepcopy=True)\n",
    "```\n",
    "which will create `u_1_`, `u_2_`, and `u_3_` as stand-alone `Function`\n",
    "objects, each holding a copy of the subfunction data extracted from\n",
    "`u`. This is useful in many situations but is not necessary for\n",
    "plotting and saving solutions to file."
   ]
  },
  {
   "cell_type": "markdown",
   "metadata": {},
   "source": [
    "**Acknowledgment**: This notebook was adapted from [The FEniCS Tutorial Volume I](https://fenicsproject.org/pub/tutorial/sphinx1/) by Hans Petter Langtangen and Anders Logg, released under CC Attribution 4.0 license."
   ]
  },
  {
   "cell_type": "code",
   "execution_count": null,
   "metadata": {
    "collapsed": true,
    "jupyter": {
     "outputs_hidden": true
    }
   },
   "outputs": [],
   "source": []
  }
 ],
 "metadata": {
  "kernelspec": {
   "display_name": "Python 3 (ipykernel)",
   "language": "python",
   "name": "python3"
  },
  "language_info": {
   "codemirror_mode": {
    "name": "ipython",
    "version": 3
   },
   "file_extension": ".py",
   "mimetype": "text/x-python",
   "name": "python",
   "nbconvert_exporter": "python",
   "pygments_lexer": "ipython3",
   "version": "3.12.7"
  },
  "latex_envs": {
   "LaTeX_envs_menu_present": true,
   "autocomplete": true,
   "bibliofile": "biblio.bib",
   "cite_by": "apalike",
   "current_citInitial": 1,
   "eqLabelWithNumbers": true,
   "eqNumInitial": 1,
   "hotkeys": {
    "equation": "Ctrl-E",
    "itemize": "Ctrl-I"
   },
   "labels_anchors": false,
   "latex_user_defs": false,
   "report_style_numbering": false,
   "user_envs_cfg": false
  }
 },
 "nbformat": 4,
 "nbformat_minor": 4
}
